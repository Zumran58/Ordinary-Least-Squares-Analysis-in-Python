{
 "cells": [
  {
   "cell_type": "markdown",
   "metadata": {},
   "source": [
    "# Programming Question 2"
   ]
  },
  {
   "cell_type": "code",
   "execution_count": 1,
   "metadata": {},
   "outputs": [],
   "source": [
    "import numpy as np\n",
    "import matplotlib.pyplot as plt\n",
    "import _pickle as pickle\n",
    "import os\n",
    "import math"
   ]
  },
  {
   "cell_type": "code",
   "execution_count": 2,
   "metadata": {},
   "outputs": [],
   "source": [
    "def regression(k, x ,y):\n",
    "                \n",
    "    x=np.ones(shape=(data[\"X\"].shape[0],1))\n",
    "    \n",
    "    \n",
    "    if \"test.pkl\" not in f.name:\n",
    "             \n",
    "        for i in list(range(1,k)):\n",
    "            \n",
    "                \n",
    "            x=np.concatenate(( x, data[\"X\"] ** i), axis=1)\n",
    "            \n",
    "         \n",
    "            xtxinv=np.linalg.inv(x.T@x)\n",
    "            \n",
    "            #print(xtxinv)\n",
    "            \n",
    "            xty=x.T @ data[\"Y\"]\n",
    "            \n",
    "            #print(xty)\n",
    "            \n",
    "            w=xtxinv@xty \n",
    "            \n",
    "            #w is the calculated weights\n",
    "            \n",
    "            y=x@w\n",
    "        \n",
    "           # print(y)\n",
    "            \n",
    "            #print(\"THESE ARE THE Y VALUES\")\n",
    "            \n",
    "            #print(data[\"Y\"])\n",
    "            \n",
    "            \n",
    "        plt.scatter(data[\"X\"], data[\"Y\"])\n",
    "            \n",
    "        abserror=np.linalg.norm(data[\"Y\"]-y) #prints out the error for the L2 norm\n",
    "        \n",
    "        \n",
    "        print(abserror)\n",
    "        \n",
    "        #print(data[\"X\"].shape[0])\n",
    "        \n",
    "        plt.scatter(data[\"X\"], y)\n",
    "        \n",
    "        \n",
    "        return w\n",
    "   "
   ]
  },
  {
   "cell_type": "code",
   "execution_count": 3,
   "metadata": {},
   "outputs": [],
   "source": [
    "    \n",
    "    \n",
    "def eval_poly(k,x,y, w):\n",
    "\n",
    "  \n",
    "   \n",
    "    x=np.full(shape=(data[\"X\"].shape[0],1), fill_value=1)\n",
    "    \n",
    "    \n",
    "\n",
    "    for i in list(range(1,k)):\n",
    "        \n",
    "        x=np.concatenate(( x, data[\"X\"] ** i), axis=1)\n",
    "        \n",
    "       # print(x)\n",
    "        \n",
    "    #print(x)\n",
    "    \n",
    "    yhat=x@w\n",
    "    \n",
    "    abserror=np.linalg.norm(y-yhat)\n",
    "    \n",
    "    plt.scatter(data[\"X\"], yhat)\n",
    "    \n",
    "    print(abserror)"
   ]
  },
  {
   "cell_type": "markdown",
   "metadata": {},
   "source": [
    "## 1.  In general, if I increase the size of the training set, what can we expect about the model’s training error? What about the test error?\n"
   ]
  },
  {
   "cell_type": "markdown",
   "metadata": {},
   "source": [
    "If we increase the size of the training set, from a small set to a larger set, then it can be seen that the training error increases.This is because the mean squared error increases when the training size is increased on various datasets. For example for the small_train of dataset 1, we can calculate the error using the L2 norm of ||y-yhat ||, where y is the expected training output in the dataset, and yhat is the actual training output given by the model. This is because in order to properly measure error in vectors, we need to measure the size or norm of a vector x. Since we are using the vandermonde matrix in our computation of the model's outputs, which involves calculating X^TX, then calculating the L2 norm will enable us to calculate the training error. "
   ]
  },
  {
   "cell_type": "code",
   "execution_count": 4,
   "metadata": {},
   "outputs": [
    {
     "name": "stdout",
     "output_type": "stream",
     "text": [
      "1.8567203791389761\n"
     ]
    },
    {
     "data": {
      "image/png": "[encoded data removed]",
      "text/plain": [
       "<Figure size 432x288 with 1 Axes>"
      ]
     },
     "metadata": {
      "needs_background": "light"
     },
     "output_type": "display_data"
    }
   ],
   "source": [
    "with open('/home/jovyan/binder/Dataset1/small_train.pkl', \"rb\") as f:\n",
    "    data=pickle.load(f)\n",
    "    \n",
    "    #print(data[\"X\"].shape[0])\n",
    "    x=data[\"X\"]\n",
    "    \n",
    "   # print(x)\n",
    "    \n",
    "    y=data[\"Y\"]\n",
    "    \n",
    "    w=regression(10,x, y)"
   ]
  },
  {
   "cell_type": "markdown",
   "metadata": {},
   "source": [
    "For the small_train.pkl file of dataset 1, the L2 norm or training error is 1.856720379138977 over all data points using a fixed polynomial degree of 10.\n",
    "\n",
    "The blue points represent the original training data for the input and output. The orange points represent the regressors ouput with respect to the training data"
   ]
  },
  {
   "cell_type": "code",
   "execution_count": 5,
   "metadata": {},
   "outputs": [
    {
     "name": "stdout",
     "output_type": "stream",
     "text": [
      "6.836537666421203\n"
     ]
    },
    {
     "data": {
      "image/png": "[encoded data removed]",
      "text/plain": [
       "<Figure size 432x288 with 1 Axes>"
      ]
     },
     "metadata": {
      "needs_background": "light"
     },
     "output_type": "display_data"
    }
   ],
   "source": [
    "with open('/home/jovyan/binder/Dataset1/large_train.pkl', \"rb\") as f:\n",
    "    data=pickle.load(f)\n",
    "    \n",
    "    #print(data[\"X\"].shape[0])\n",
    "    x=data[\"X\"]\n",
    "    \n",
    "   # print(x)\n",
    "    \n",
    "    y=data[\"Y\"]\n",
    "    w=regression(10,x, y)"
   ]
  },
  {
   "cell_type": "markdown",
   "metadata": {},
   "source": [
    " On the other hand, for large_train of dataset_1, it is significantly higher at 6.836537666421202."
   ]
  },
  {
   "cell_type": "code",
   "execution_count": 6,
   "metadata": {},
   "outputs": [
    {
     "name": "stdout",
     "output_type": "stream",
     "text": [
      "5.045950671752048\n"
     ]
    },
    {
     "data": {
      "image/png": "[encoded data removed]",
      "text/plain": [
       "<Figure size 432x288 with 1 Axes>"
      ]
     },
     "metadata": {
      "needs_background": "light"
     },
     "output_type": "display_data"
    }
   ],
   "source": [
    "with open('/home/jovyan/binder/Dataset2/small_train.pkl', \"rb\") as f:\n",
    "    data=pickle.load(f)\n",
    "    \n",
    "    #print(data[\"X\"].shape[0])\n",
    "    x=data[\"X\"]\n",
    "    \n",
    "   # print(x)\n",
    "    \n",
    "    y=data[\"Y\"]\n",
    "    w=regression(10,x, y)"
   ]
  },
  {
   "cell_type": "markdown",
   "metadata": {},
   "source": [
    "Similarly for small_train.pkl of dataset 2, the L2 norm or training error is 5.04595067175204 over all data points using a fixed polynomial degree of 10."
   ]
  },
  {
   "cell_type": "code",
   "execution_count": 7,
   "metadata": {},
   "outputs": [
    {
     "name": "stdout",
     "output_type": "stream",
     "text": [
      "5.999617764488477\n"
     ]
    },
    {
     "data": {
      "image/png": "[encoded data removed]",
      "text/plain": [
       "<Figure size 432x288 with 1 Axes>"
      ]
     },
     "metadata": {
      "needs_background": "light"
     },
     "output_type": "display_data"
    }
   ],
   "source": [
    "with open('/home/jovyan/binder/Dataset2/large_train.pkl', \"rb\") as f:\n",
    "    data=pickle.load(f)\n",
    "    \n",
    "    #print(data[\"X\"].shape[0])\n",
    "    x=data[\"X\"]\n",
    "    \n",
    "   # print(x)\n",
    "    \n",
    "    y=data[\"Y\"]\n",
    "    w=regression(10,x, y)"
   ]
  },
  {
   "cell_type": "markdown",
   "metadata": {},
   "source": [
    " On the other hand, for large_ train, the training error is 5.999617764488481.\n"
   ]
  },
  {
   "cell_type": "code",
   "execution_count": 8,
   "metadata": {},
   "outputs": [
    {
     "name": "stdout",
     "output_type": "stream",
     "text": [
      "1.8484425679531544\n"
     ]
    },
    {
     "data": {
      "image/png": "[encoded data removed]",
      "text/plain": [
       "<Figure size 432x288 with 1 Axes>"
      ]
     },
     "metadata": {
      "needs_background": "light"
     },
     "output_type": "display_data"
    }
   ],
   "source": [
    "with open('/home/jovyan/binder/Dataset3/small_train.pkl', \"rb\") as f:\n",
    "    data=pickle.load(f)\n",
    "    \n",
    "    #print(data[\"X\"].shape[0])\n",
    "    x=data[\"X\"]\n",
    "    \n",
    "   # print(x)\n",
    "    \n",
    "    y=data[\"Y\"]\n",
    "    w=regression(10,x, y)"
   ]
  },
  {
   "cell_type": "markdown",
   "metadata": {},
   "source": [
    "Similarly for small_train.pkl of dataset 3, the L2 norm or training error is 1.848442567953152 over all data points using a fixed polynomial degree of 10."
   ]
  },
  {
   "cell_type": "code",
   "execution_count": 9,
   "metadata": {},
   "outputs": [
    {
     "name": "stdout",
     "output_type": "stream",
     "text": [
      "5.084402602249314\n"
     ]
    },
    {
     "data": {
      "image/png": "[encoded data removed]",
      "text/plain": [
       "<Figure size 432x288 with 1 Axes>"
      ]
     },
     "metadata": {
      "needs_background": "light"
     },
     "output_type": "display_data"
    }
   ],
   "source": [
    "with open('/home/jovyan/binder/Dataset3/large_train.pkl', \"rb\") as f:\n",
    "    data=pickle.load(f)\n",
    "    \n",
    "    #print(data[\"X\"].shape[0])\n",
    "    x=data[\"X\"]\n",
    "    \n",
    "   # print(x)\n",
    "    \n",
    "    y=data[\"Y\"]\n",
    "    w=regression(10,x, y)"
   ]
  },
  {
   "cell_type": "markdown",
   "metadata": {},
   "source": [
    "On the other hand, for large_ train, the training error is 5.084402602249325.\n"
   ]
  },
  {
   "cell_type": "markdown",
   "metadata": {},
   "source": [
    "As seen in the three datasets, the models training error increases as the size of the training dataset increases. This is because a larger training set is harder to fit for a model, and so the perceived training error increases. This is not necessarily a bad thing though."
   ]
  },
  {
   "cell_type": "markdown",
   "metadata": {},
   "source": [
    "As for the test errors, we can use a fixed polynomial degree of 10 and observe the following.\n"
   ]
  },
  {
   "cell_type": "code",
   "execution_count": 10,
   "metadata": {},
   "outputs": [
    {
     "name": "stdout",
     "output_type": "stream",
     "text": [
      "1.8567203791389761\n",
      "[[  6.16654397]\n",
      " [ -1.93672774]\n",
      " [-22.6536431 ]\n",
      " [ 25.86074884]\n",
      " [ 29.27114407]\n",
      " [-27.82232742]\n",
      " [-11.80446144]\n",
      " [ 10.54061534]\n",
      " [  1.62207253]\n",
      " [ -1.33155118]]\n",
      "11.615997424488215\n"
     ]
    },
    {
     "data": {
      "image/png": "[encoded data removed]",
      "text/plain": [
       "<Figure size 432x288 with 1 Axes>"
      ]
     },
     "metadata": {
      "needs_background": "light"
     },
     "output_type": "display_data"
    }
   ],
   "source": [
    "with open('/home/jovyan/binder/Dataset1/small_train.pkl', \"rb\") as f:\n",
    "    data=pickle.load(f)\n",
    "    \n",
    "    #print(data[\"X\"].shape[0])\n",
    "    x=data[\"X\"]\n",
    "    \n",
    "   # print(x)\n",
    "    \n",
    "    y=data[\"Y\"]\n",
    "    \n",
    "    w=regression(10,x, y)\n",
    "    \n",
    "\n",
    "    \n",
    "\n",
    "with open('/home/jovyan/binder/Dataset1/test.pkl', \"rb\") as f:\n",
    "    data=pickle.load(f)\n",
    "    \n",
    "    y=data[\"Y\"]\n",
    "\n",
    "\n",
    "    print(w)\n",
    "    \n",
    "    eval_poly(10,x,y, w)\n"
   ]
  },
  {
   "cell_type": "markdown",
   "metadata": {},
   "source": [
    "The points the model predicts are plotted as green using the weights from the small training dataset and input from test data.The green points are plotted with respect to the test input in x and the prediction calculated by the weights in the regressor.\n",
    "\n",
    "The test error is 11.615997424642874 for a small training dataset for dataset 1 using k=10"
   ]
  },
  {
   "cell_type": "code",
   "execution_count": 11,
   "metadata": {},
   "outputs": [
    {
     "name": "stdout",
     "output_type": "stream",
     "text": [
      "6.836537666421203\n",
      "[[ 4.68280467]\n",
      " [ 5.219706  ]\n",
      " [-7.3509739 ]\n",
      " [-4.48119266]\n",
      " [14.02871184]\n",
      " [ 3.98476742]\n",
      " [-6.22648939]\n",
      " [-1.35977297]\n",
      " [ 0.90407203]\n",
      " [ 0.12303155]]\n",
      "10.528157047540377\n"
     ]
    },
    {
     "data": {
      "image/png": "[encoded data removed]",
      "text/plain": [
       "<Figure size 432x288 with 1 Axes>"
      ]
     },
     "metadata": {
      "needs_background": "light"
     },
     "output_type": "display_data"
    }
   ],
   "source": [
    "with open('/home/jovyan/binder/Dataset1/large_train.pkl', \"rb\") as f:\n",
    "    data=pickle.load(f)\n",
    "    \n",
    "    #print(data[\"X\"].shape[0])\n",
    "    x=data[\"X\"]\n",
    "    \n",
    "   # print(x)\n",
    "    \n",
    "    y=data[\"Y\"]\n",
    "    \n",
    "    w=regression(10,x, y)\n",
    "    \n",
    "\n",
    "with open('/home/jovyan/binder/Dataset1/test.pkl', \"rb\") as f:\n",
    "    data=pickle.load(f)\n",
    "    \n",
    "    y=data[\"Y\"]\n",
    "\n",
    "\n",
    "    print(w)\n",
    "    \n",
    "    eval_poly(10,x,y, w)\n"
   ]
  },
  {
   "cell_type": "markdown",
   "metadata": {},
   "source": [
    "The test error reduces to 10.528157047611112 when we use a large_train as the training dataset instead"
   ]
  },
  {
   "cell_type": "code",
   "execution_count": 12,
   "metadata": {},
   "outputs": [
    {
     "name": "stdout",
     "output_type": "stream",
     "text": [
      "5.045950671752048\n",
      "[[  8.81135045]\n",
      " [  5.20773932]\n",
      " [-11.80081976]\n",
      " [-14.89140961]\n",
      " [ 17.8953634 ]\n",
      " [ 21.19025072]\n",
      " [ -5.6573093 ]\n",
      " [ -7.57062935]\n",
      " [  0.6383209 ]\n",
      " [  0.86612285]]\n",
      "12.494638888781363\n"
     ]
    },
    {
     "data": {
      "image/png": "[encoded data removed]",
      "text/plain": [
       "<Figure size 432x288 with 1 Axes>"
      ]
     },
     "metadata": {
      "needs_background": "light"
     },
     "output_type": "display_data"
    }
   ],
   "source": [
    "with open('/home/jovyan/binder/Dataset2/small_train.pkl', \"rb\") as f:\n",
    "    data=pickle.load(f)\n",
    "    \n",
    "    #print(data[\"X\"].shape[0])\n",
    "    x=data[\"X\"]\n",
    "    \n",
    "   # print(x)\n",
    "    \n",
    "    y=data[\"Y\"]\n",
    "    \n",
    "    w=regression(10,x, y)\n",
    "    \n",
    "\n",
    "with open('/home/jovyan/binder/Dataset2/test.pkl', \"rb\") as f:\n",
    "    data=pickle.load(f)\n",
    "    \n",
    "    y=data[\"Y\"]\n",
    "\n",
    "\n",
    "    print(w)\n",
    "    \n",
    "    eval_poly(10,x,y, w)\n"
   ]
  },
  {
   "cell_type": "markdown",
   "metadata": {},
   "source": [
    "The test error is 12.494638888817523 for a small training dataset for dataset 2 using k=10"
   ]
  },
  {
   "cell_type": "code",
   "execution_count": 13,
   "metadata": {},
   "outputs": [
    {
     "name": "stdout",
     "output_type": "stream",
     "text": [
      "5.999617764488477\n",
      "[[ 8.59032857]\n",
      " [ 6.50590585]\n",
      " [-6.19937792]\n",
      " [-3.85216847]\n",
      " [10.04204744]\n",
      " [ 6.79587274]\n",
      " [-3.19946065]\n",
      " [-2.63091777]\n",
      " [ 0.45638797]\n",
      " [ 0.37818689]]\n",
      "20.31737443584395\n"
     ]
    },
    {
     "data": {
      "image/png": "[encoded data removed]",
      "text/plain": [
       "<Figure size 432x288 with 1 Axes>"
      ]
     },
     "metadata": {
      "needs_background": "light"
     },
     "output_type": "display_data"
    }
   ],
   "source": [
    "with open('/home/jovyan/binder/Dataset2/large_train.pkl', \"rb\") as f:\n",
    "    data=pickle.load(f)\n",
    "    \n",
    "    #print(data[\"X\"].shape[0])\n",
    "    x=data[\"X\"]\n",
    "    \n",
    "   # print(x)\n",
    "    \n",
    "    y=data[\"Y\"]\n",
    "    \n",
    "    w=regression(10,x, y)\n",
    "    \n",
    "\n",
    "    \n",
    "\n",
    "with open('/home/jovyan/binder/Dataset2/test.pkl', \"rb\") as f:\n",
    "    data=pickle.load(f)\n",
    "    \n",
    "    y=data[\"Y\"]\n",
    "\n",
    "\n",
    "    print(w)\n",
    "    \n",
    "    eval_poly(10,x,y, w)\n"
   ]
  },
  {
   "cell_type": "markdown",
   "metadata": {},
   "source": [
    "The test error is 20.317374436910175 for a large training dataset for dataset 2 using k=10. "
   ]
  },
  {
   "cell_type": "code",
   "execution_count": 14,
   "metadata": {},
   "outputs": [
    {
     "name": "stdout",
     "output_type": "stream",
     "text": [
      "1.8484425679531544\n",
      "[[  4.12038235]\n",
      " [  5.61631165]\n",
      " [ 14.86078662]\n",
      " [-23.40485505]\n",
      " [-25.95876548]\n",
      " [ 36.6154733 ]\n",
      " [ 30.3057286 ]\n",
      " [-10.0197968 ]\n",
      " [-10.88666855]\n",
      " [ -1.8046897 ]]\n",
      "2338.885332345637\n"
     ]
    },
    {
     "data": {
      "image/png": "[encoded data removed]",
      "text/plain": [
       "<Figure size 432x288 with 1 Axes>"
      ]
     },
     "metadata": {
      "needs_background": "light"
     },
     "output_type": "display_data"
    }
   ],
   "source": [
    "with open('/home/jovyan/binder/Dataset3/small_train.pkl', \"rb\") as f:\n",
    "    data=pickle.load(f)\n",
    "    \n",
    "    #print(data[\"X\"].shape[0])\n",
    "    x=data[\"X\"]\n",
    "    \n",
    "   # print(x)\n",
    "    \n",
    "    y=data[\"Y\"]\n",
    "    \n",
    "    w=regression(10,x, y)\n",
    "    \n",
    "\n",
    "    \n",
    "\n",
    "with open('/home/jovyan/binder/Dataset3/test.pkl', \"rb\") as f:\n",
    "    data=pickle.load(f)\n",
    "    \n",
    "    y=data[\"Y\"]\n",
    "\n",
    "\n",
    "    print(w)\n",
    "    \n",
    "    eval_poly(10,x,y, w)"
   ]
  },
  {
   "cell_type": "markdown",
   "metadata": {},
   "source": [
    "The test error is 2338.8853323566154 for a small training dataset for dataset 3 using k=10"
   ]
  },
  {
   "cell_type": "code",
   "execution_count": 15,
   "metadata": {},
   "outputs": [
    {
     "name": "stdout",
     "output_type": "stream",
     "text": [
      "5.084402602249314\n",
      "[[ 3.34066316]\n",
      " [ 7.29511406]\n",
      " [11.3670012 ]\n",
      " [-7.09526754]\n",
      " [-9.41011956]\n",
      " [ 8.96042246]\n",
      " [ 4.75050806]\n",
      " [-3.39248502]\n",
      " [-0.64065488]\n",
      " [ 0.4357818 ]]\n",
      "6.25578655533525\n"
     ]
    },
    {
     "data": {
      "image/png": "[encoded data removed]",
      "text/plain": [
       "<Figure size 432x288 with 1 Axes>"
      ]
     },
     "metadata": {
      "needs_background": "light"
     },
     "output_type": "display_data"
    }
   ],
   "source": [
    "with open('/home/jovyan/binder/Dataset3/large_train.pkl', \"rb\") as f:\n",
    "    data=pickle.load(f)\n",
    "    \n",
    "    #print(data[\"X\"].shape[0])\n",
    "    x=data[\"X\"]\n",
    "    \n",
    "   # print(x)\n",
    "    \n",
    "    y=data[\"Y\"]\n",
    "    \n",
    "    w=regression(10,x, y)\n",
    "    \n",
    "\n",
    "    \n",
    "\n",
    "with open('/home/jovyan/binder/Dataset3/test.pkl', \"rb\") as f:\n",
    "    data=pickle.load(f)\n",
    "    \n",
    "    y=data[\"Y\"]\n",
    "\n",
    "\n",
    "    print(w)\n",
    "    \n",
    "    eval_poly(10,x,y, w)"
   ]
  },
  {
   "cell_type": "markdown",
   "metadata": {},
   "source": [
    "The test error decreases to 6.2557865553346375 for a large training dataset 3 using k=10"
   ]
  },
  {
   "cell_type": "markdown",
   "metadata": {},
   "source": [
    "In general, if we use a good K value and increase size of the training set that is feeded into the model, then the test error will decrease as more training data is fed. This is becuase the model is better able to generalize better to new test input since it has been trained adequately"
   ]
  },
  {
   "cell_type": "markdown",
   "metadata": {},
   "source": [
    "## In general, if I increase the size of the test set, what can we expect the about themodel’s training error? What about the test error?"
   ]
  },
  {
   "cell_type": "markdown",
   "metadata": {},
   "source": [
    "As seen in the observations above, increasing the test size increases the model's training errors. The largest training errors occurred in the large_train for all three test datasets. For example when we took large_train and found the training error with respect to the 3 test datasets, then that resulted in a larger training error than if we had performed the same process using small_train.\n",
    "\n",
    "However, for the test error, it decreased immensely as we increased the size of the test set for the machine learning model. This can be seen by the observations above. This was in line with the expected result, because feeding more test data in the machine learning model, will allow the model to be able to generalize effectively to new test data. Hence the test error decreases for all three datasets.\n"
   ]
  },
  {
   "cell_type": "markdown",
   "metadata": {},
   "source": [
    "## How much data should I try to obtain if I want to build a good model?"
   ]
  },
  {
   "cell_type": "markdown",
   "metadata": {},
   "source": [
    "It depends on the context of the machine learning problem. For this problem, if too little data is used to train the machine learning model, then the model will not be able to generalize accurately to new data since an insufficient quantity of data is being used to train the model.  This can cause underfitting for a model with a small dataset, since the model has not been trained enough to be able to generalize to new data. This will cause the model to have a high training and high test error. Similarly, if too much data is being used to train the model, then it can cause the model to be too closely bound to the training data. Although this can lead to a low training error, it could also lead to a high test error because it will not be able to generalize well to new data. This is known as overfitting the model where the model is overtrained to data and hence unable to generalize well to new data."
   ]
  },
  {
   "cell_type": "markdown",
   "metadata": {},
   "source": [
    "\n",
    "We need to find an optimum, moderate amount of data that does not cause the model to either underfit or overfit.\n"
   ]
  },
  {
   "cell_type": "markdown",
   "metadata": {},
   "source": [
    "## In general, if the model is too simple, what can we conclude about the training and test errors?"
   ]
  },
  {
   "cell_type": "markdown",
   "metadata": {},
   "source": [
    "If the model is too simple, then the polynomial has a low degree(say k=2 or k=3). then there will be a high training and high test error. For example for dataset 1, and keeping a constant small_training dataset:"
   ]
  },
  {
   "cell_type": "code",
   "execution_count": 16,
   "metadata": {},
   "outputs": [
    {
     "name": "stdout",
     "output_type": "stream",
     "text": [
      "22.12584591500042\n",
      "[[8.49869347]\n",
      " [1.48714095]]\n",
      "24.087820871615726\n"
     ]
    },
    {
     "data": {
      "image/png": "[encoded data removed]",
      "text/plain": [
       "<Figure size 432x288 with 1 Axes>"
      ]
     },
     "metadata": {
      "needs_background": "light"
     },
     "output_type": "display_data"
    }
   ],
   "source": [
    "with open('/home/jovyan/binder/Dataset1/small_train.pkl', \"rb\") as f:\n",
    "    data=pickle.load(f)\n",
    "    \n",
    "    #print(data[\"X\"].shape[0])\n",
    "    x=data[\"X\"]\n",
    "    \n",
    "   # print(x)\n",
    "    \n",
    "    y=data[\"Y\"]\n",
    "    \n",
    "    w=regression(2,x, y)\n",
    "    \n",
    "\n",
    "    \n",
    "\n",
    "with open('/home/jovyan/binder/Dataset1/test.pkl', \"rb\") as f:\n",
    "    data=pickle.load(f)\n",
    "    \n",
    "    y=data[\"Y\"]\n",
    "\n",
    "\n",
    "    print(w)\n",
    "    \n",
    "    eval_poly(2,x,y, w)"
   ]
  },
  {
   "cell_type": "markdown",
   "metadata": {},
   "source": [
    "It has a high training and test error of 22.12584591500042 and 24.087820871615726"
   ]
  },
  {
   "cell_type": "markdown",
   "metadata": {},
   "source": [
    "Similarly for dataset 2,"
   ]
  },
  {
   "cell_type": "code",
   "execution_count": 17,
   "metadata": {},
   "outputs": [
    {
     "name": "stdout",
     "output_type": "stream",
     "text": [
      "60.72417667553506\n",
      "[[17.28643673]\n",
      " [17.08568184]]\n",
      "69.08335302821556\n"
     ]
    },
    {
     "data": {
      "image/png": "[encoded data removed]",
      "text/plain": [
       "<Figure size 432x288 with 1 Axes>"
      ]
     },
     "metadata": {
      "needs_background": "light"
     },
     "output_type": "display_data"
    }
   ],
   "source": [
    "with open('/home/jovyan/binder/Dataset2/small_train.pkl', \"rb\") as f:\n",
    "    data=pickle.load(f)\n",
    "    \n",
    "    #print(data[\"X\"].shape[0])\n",
    "    x=data[\"X\"]\n",
    "    \n",
    "   # print(x)\n",
    "    \n",
    "    y=data[\"Y\"]\n",
    "    \n",
    "    w=regression(2,x, y)\n",
    "    \n",
    "\n",
    "    \n",
    "\n",
    "with open('/home/jovyan/binder/Dataset2/test.pkl', \"rb\") as f:\n",
    "    data=pickle.load(f)\n",
    "    \n",
    "    y=data[\"Y\"]\n",
    "\n",
    "\n",
    "    print(w)\n",
    "    \n",
    "    eval_poly(2,x,y, w)"
   ]
  },
  {
   "cell_type": "markdown",
   "metadata": {},
   "source": [
    "It has a high training and test error of 60.72417667553506 and 69.08335302821556"
   ]
  },
  {
   "cell_type": "markdown",
   "metadata": {},
   "source": [
    "Lastly, for dataset 3"
   ]
  },
  {
   "cell_type": "code",
   "execution_count": 18,
   "metadata": {},
   "outputs": [
    {
     "name": "stdout",
     "output_type": "stream",
     "text": [
      "21.150974977648946\n",
      "[[8.91400309]\n",
      " [2.71807968]]\n",
      "84.44891238526859\n"
     ]
    },
    {
     "data": {
      "image/png": "[encoded data removed]",
      "text/plain": [
       "<Figure size 432x288 with 1 Axes>"
      ]
     },
     "metadata": {
      "needs_background": "light"
     },
     "output_type": "display_data"
    }
   ],
   "source": [
    "with open('/home/jovyan/binder/Dataset3/small_train.pkl', \"rb\") as f:\n",
    "    data=pickle.load(f)\n",
    "    \n",
    "    #print(data[\"X\"].shape[0])\n",
    "    x=data[\"X\"]\n",
    "    \n",
    "   # print(x)\n",
    "    \n",
    "    y=data[\"Y\"]\n",
    "    \n",
    "    w=regression(2,x, y)\n",
    "    \n",
    "\n",
    "    \n",
    "\n",
    "with open('/home/jovyan/binder/Dataset3/test.pkl', \"rb\") as f:\n",
    "    data=pickle.load(f)\n",
    "    \n",
    "    y=data[\"Y\"]\n",
    "\n",
    "\n",
    "    print(w)\n",
    "    \n",
    "    eval_poly(2,x,y, w)"
   ]
  },
  {
   "cell_type": "markdown",
   "metadata": {},
   "source": [
    "It has a high training and test error of 21.150974977648946 and 84.44891238526859"
   ]
  },
  {
   "cell_type": "markdown",
   "metadata": {},
   "source": [
    "The reason for a high training and test error is due to a phenomenom called underfitting. \n",
    "This is the scenario in machine learning where a training model is unable to capture the relationship between the input and output variables accurately, and as a result the model is unable to generalize well to new data. This leads to a high bias in the model, because the model is unable to establish the presiding trend within the data, resulting in both training errors and poor performance of the model when given input to predict. \n"
   ]
  },
  {
   "cell_type": "markdown",
   "metadata": {},
   "source": [
    "## In general, if the model is too complex, what can we conclude about the training and test errors?"
   ]
  },
  {
   "cell_type": "markdown",
   "metadata": {},
   "source": [
    "If the model is too simple, then the polynomial has a low degree(say k=10). then there will be a low training but high test error. For example for dataset 1,"
   ]
  },
  {
   "cell_type": "code",
   "execution_count": 19,
   "metadata": {},
   "outputs": [
    {
     "name": "stdout",
     "output_type": "stream",
     "text": [
      "1.8567203791389761\n",
      "[[  6.16654397]\n",
      " [ -1.93672774]\n",
      " [-22.6536431 ]\n",
      " [ 25.86074884]\n",
      " [ 29.27114407]\n",
      " [-27.82232742]\n",
      " [-11.80446144]\n",
      " [ 10.54061534]\n",
      " [  1.62207253]\n",
      " [ -1.33155118]]\n",
      "11.615997424488215\n"
     ]
    },
    {
     "data": {
      "image/png": "[encoded data removed]",
      "text/plain": [
       "<Figure size 432x288 with 1 Axes>"
      ]
     },
     "metadata": {
      "needs_background": "light"
     },
     "output_type": "display_data"
    }
   ],
   "source": [
    "with open('/home/jovyan/binder/Dataset1/small_train.pkl', \"rb\") as f:\n",
    "    data=pickle.load(f)\n",
    "    \n",
    "    #print(data[\"X\"].shape[0])\n",
    "    x=data[\"X\"]\n",
    "    \n",
    "   # print(x)\n",
    "    \n",
    "    y=data[\"Y\"]\n",
    "    \n",
    "    w=regression(10,x, y)\n",
    "    \n",
    "\n",
    "    \n",
    "\n",
    "with open('/home/jovyan/binder/Dataset1/test.pkl', \"rb\") as f:\n",
    "    data=pickle.load(f)\n",
    "    \n",
    "    y=data[\"Y\"]\n",
    "\n",
    "\n",
    "    print(w)\n",
    "    \n",
    "    eval_poly(10,x,y, w)"
   ]
  },
  {
   "cell_type": "markdown",
   "metadata": {},
   "source": [
    "It has a low training but high test error of 1.8567203791389817 and 11.615997424642874 respectively"
   ]
  },
  {
   "cell_type": "code",
   "execution_count": 20,
   "metadata": {},
   "outputs": [
    {
     "name": "stdout",
     "output_type": "stream",
     "text": [
      "5.045950671752048\n",
      "[[  8.81135045]\n",
      " [  5.20773932]\n",
      " [-11.80081976]\n",
      " [-14.89140961]\n",
      " [ 17.8953634 ]\n",
      " [ 21.19025072]\n",
      " [ -5.6573093 ]\n",
      " [ -7.57062935]\n",
      " [  0.6383209 ]\n",
      " [  0.86612285]]\n",
      "12.494638888781363\n"
     ]
    },
    {
     "data": {
      "image/png": "[encoded data removed]",
      "text/plain": [
       "<Figure size 432x288 with 1 Axes>"
      ]
     },
     "metadata": {
      "needs_background": "light"
     },
     "output_type": "display_data"
    }
   ],
   "source": [
    "with open('/home/jovyan/binder/Dataset2/small_train.pkl', \"rb\") as f:\n",
    "    data=pickle.load(f)\n",
    "    \n",
    "    #print(data[\"X\"].shape[0])\n",
    "    x=data[\"X\"]\n",
    "    \n",
    "   # print(x)\n",
    "    \n",
    "    y=data[\"Y\"]\n",
    "    \n",
    "    w=regression(10,x, y)\n",
    "    \n",
    "\n",
    "    \n",
    "\n",
    "with open('/home/jovyan/binder/Dataset2/test.pkl', \"rb\") as f:\n",
    "    data=pickle.load(f)\n",
    "    \n",
    "    y=data[\"Y\"]\n",
    "\n",
    "\n",
    "    print(w)\n",
    "    \n",
    "    eval_poly(10,x,y, w)"
   ]
  },
  {
   "cell_type": "markdown",
   "metadata": {},
   "source": [
    "Similarly for dataset 2, it has a low training but high test error of 5.045950671752049 and 12.494638888817523 respectively"
   ]
  },
  {
   "cell_type": "code",
   "execution_count": 21,
   "metadata": {},
   "outputs": [
    {
     "name": "stdout",
     "output_type": "stream",
     "text": [
      "1.8484425679531544\n",
      "[[  4.12038235]\n",
      " [  5.61631165]\n",
      " [ 14.86078662]\n",
      " [-23.40485505]\n",
      " [-25.95876548]\n",
      " [ 36.6154733 ]\n",
      " [ 30.3057286 ]\n",
      " [-10.0197968 ]\n",
      " [-10.88666855]\n",
      " [ -1.8046897 ]]\n",
      "2338.885332345637\n"
     ]
    },
    {
     "data": {
      "image/png": "[encoded data removed]",
      "text/plain": [
       "<Figure size 432x288 with 1 Axes>"
      ]
     },
     "metadata": {
      "needs_background": "light"
     },
     "output_type": "display_data"
    }
   ],
   "source": [
    "with open('/home/jovyan/binder/Dataset3/small_train.pkl', \"rb\") as f:\n",
    "    data=pickle.load(f)\n",
    "    \n",
    "    #print(data[\"X\"].shape[0])\n",
    "    x=data[\"X\"]\n",
    "    \n",
    "   # print(x)\n",
    "    \n",
    "    y=data[\"Y\"]\n",
    "    \n",
    "    w=regression(10,x, y)\n",
    "    \n",
    "\n",
    "    \n",
    "\n",
    "with open('/home/jovyan/binder/Dataset3/test.pkl', \"rb\") as f:\n",
    "    data=pickle.load(f)\n",
    "    \n",
    "    y=data[\"Y\"]\n",
    "\n",
    "\n",
    "    print(w)\n",
    "    \n",
    "    eval_poly(10,x,y, w)"
   ]
  },
  {
   "cell_type": "markdown",
   "metadata": {},
   "source": [
    "Similarly for dataset 3, it has a low training but high test error of 1.8484425679531655 and 2338.8853323566154 respectively"
   ]
  },
  {
   "cell_type": "markdown",
   "metadata": {},
   "source": [
    "When the model is too complex, we obtain the opposite of the scenario mentioned before and is known as overfitting. It occurs when a model contains too much complexity or is overtrained. There is low bias on the model because the model has been trained immensely, but it has a high variance. Due to the model following too closely to the training points, this renders the model unable to generalize well to new test data, leading to high variance.Thus, we get a low training error but a high test error in the case of overfitting."
   ]
  },
  {
   "cell_type": "markdown",
   "metadata": {},
   "source": [
    "## For each dataset, which (degree) model gives the best performance? How did you find out?"
   ]
  },
  {
   "cell_type": "markdown",
   "metadata": {},
   "source": [
    "When trying to find the best degree model for optimal performance, we want to keep all the other factors constant. For this question, we want to compare the training and test error on various degrees of the model polynomial under the same dataset until we reach the lowest possible training and test error. \n"
   ]
  },
  {
   "cell_type": "markdown",
   "metadata": {},
   "source": [
    "For dataset 1, small_train and a polynomial degree of 10, the training error is 1.856720379138977 but the test error was 11.615997424671722, hence showing that our model is too tightly bounded to the training data to be able to generalize well to new test data. This is showing the effects of overfitting on our data, because model is too closely bound to the training data, hence it is unable to predict well for new testing data\n",
    "\n",
    "If you keep everything else constant and use a polynomial degree of 2, then the training error is 22.12584591500042 and the test error is 24.087820871615726. This shows that keeping our model too simple can cause underfitting in our model, and thus leading to a high training and test error. It is unable to perform well on the training data and test data.\n"
   ]
  },
  {
   "cell_type": "markdown",
   "metadata": {},
   "source": [
    "We need to find the scenario, where the model is neither too simple nor complex, so that we reach the optimum and obtain the lowest test error and lowest training error. In order words, we need to find the \"sweet\" spot where the training error is not too bad, and the test error is as low as possible. This is because the lowest training error will always occur at k=10.\n",
    "\n",
    "A good place to start it at the midpoint of 10 which is 5(a model neither simple nor complex) to see if it yields a low training and test error.\n"
   ]
  },
  {
   "cell_type": "code",
   "execution_count": 22,
   "metadata": {},
   "outputs": [
    {
     "name": "stdout",
     "output_type": "stream",
     "text": [
      "3.4714873898707896\n",
      "[[ 4.61366887]\n",
      " [ 3.27492225]\n",
      " [-0.74316713]\n",
      " [-0.73975512]\n",
      " [ 1.45440781]]\n",
      "9.575653929027803\n"
     ]
    },
    {
     "data": {
      "image/png": "[encoded data removed]",
      "text/plain": [
       "<Figure size 432x288 with 1 Axes>"
      ]
     },
     "metadata": {
      "needs_background": "light"
     },
     "output_type": "display_data"
    }
   ],
   "source": [
    "with open('/home/jovyan/binder/Dataset1/small_train.pkl', \"rb\") as f:\n",
    "    data=pickle.load(f)\n",
    "    \n",
    "    #print(data[\"X\"].shape[0])\n",
    "    x=data[\"X\"]\n",
    "    \n",
    "   # print(x)\n",
    "    \n",
    "    y=data[\"Y\"]\n",
    "    \n",
    "    w=regression(5,x, y)\n",
    "    \n",
    "\n",
    "    \n",
    "\n",
    "with open('/home/jovyan/binder/Dataset1/test.pkl', \"rb\") as f:\n",
    "    data=pickle.load(f)\n",
    "    \n",
    "    y=data[\"Y\"]\n",
    "\n",
    "\n",
    "    print(w)\n",
    "    \n",
    "    eval_poly(5,x,y, w)"
   ]
  },
  {
   "cell_type": "markdown",
   "metadata": {},
   "source": [
    "For dataset1, the training error increases slightly to 3.4714873898707896 but the test error decreases to 9.575653929027759"
   ]
  },
  {
   "cell_type": "markdown",
   "metadata": {},
   "source": [
    "We can check either 4 or 6 now too see if that optimizes it even further. The optimum will occur at either k=4,5 or 6 due to the proximity to 5.\n"
   ]
  },
  {
   "cell_type": "code",
   "execution_count": 23,
   "metadata": {},
   "outputs": [
    {
     "name": "stdout",
     "output_type": "stream",
     "text": [
      "7.395022864726068\n",
      "[[ 3.53546719]\n",
      " [ 1.65664393]\n",
      " [ 3.95363424]\n",
      " [-0.00786151]]\n",
      "6.565544829465155\n"
     ]
    },
    {
     "data": {
      "image/png": "[encoded data removed]",
      "text/plain": [
       "<Figure size 432x288 with 1 Axes>"
      ]
     },
     "metadata": {
      "needs_background": "light"
     },
     "output_type": "display_data"
    }
   ],
   "source": [
    "with open('/home/jovyan/binder/Dataset1/small_train.pkl', \"rb\") as f:\n",
    "    data=pickle.load(f)\n",
    "    \n",
    "    #print(data[\"X\"].shape[0])\n",
    "    x=data[\"X\"]\n",
    "    \n",
    "   # print(x)\n",
    "    \n",
    "    y=data[\"Y\"]\n",
    "    \n",
    "    w=regression(4,x, y)\n",
    "    \n",
    "\n",
    "    \n",
    "\n",
    "with open('/home/jovyan/binder/Dataset1/test.pkl', \"rb\") as f:\n",
    "    data=pickle.load(f)\n",
    "    \n",
    "    y=data[\"Y\"]\n",
    "\n",
    "\n",
    "    print(w)\n",
    "    \n",
    "    eval_poly(4,x,y, w)"
   ]
  },
  {
   "cell_type": "markdown",
   "metadata": {},
   "source": [
    "Hence the optimum is k=4 where the training error increases slightly to 7.395022864726068 but the test error decreases to 6.565544829465155"
   ]
  },
  {
   "cell_type": "markdown",
   "metadata": {},
   "source": [
    "Likewise, using the same process for dataset 2, we get the minimum test error with respect to training error at k=5.\n",
    "\n",
    "With test error of 6.488665222999863 and training error of 9.490308963064562"
   ]
  },
  {
   "cell_type": "code",
   "execution_count": 24,
   "metadata": {},
   "outputs": [
    {
     "name": "stdout",
     "output_type": "stream",
     "text": [
      "6.488665222999865\n",
      "[[7.56442458]\n",
      " [2.18536127]\n",
      " [1.47540576]\n",
      " [4.71873146]\n",
      " [2.28171774]]\n",
      "9.490308963064418\n"
     ]
    },
    {
     "data": {
      "image/png": "[encoded data removed]",
      "text/plain": [
       "<Figure size 432x288 with 1 Axes>"
      ]
     },
     "metadata": {
      "needs_background": "light"
     },
     "output_type": "display_data"
    }
   ],
   "source": [
    "with open('/home/jovyan/binder/Dataset2/small_train.pkl', \"rb\") as f:\n",
    "    data=pickle.load(f)\n",
    "    \n",
    "    #print(data[\"X\"].shape[0])\n",
    "    x=data[\"X\"]\n",
    "    \n",
    "   # print(x)\n",
    "    \n",
    "    y=data[\"Y\"]\n",
    "    \n",
    "    w=regression(5,x, y)\n",
    "    \n",
    "\n",
    "    \n",
    "\n",
    "with open('/home/jovyan/binder/Dataset2/test.pkl', \"rb\") as f:\n",
    "    data=pickle.load(f)\n",
    "    \n",
    "    y=data[\"Y\"]\n",
    "\n",
    "\n",
    "    print(w)\n",
    "    \n",
    "    eval_poly(5,x,y, w)"
   ]
  },
  {
   "cell_type": "markdown",
   "metadata": {},
   "source": [
    "Likewise, using the same process for dataset 3, we get the minimum test error with respect to training error at k=5.\n",
    "\n",
    "With test error of 4.04181279181717 and training error of 6.709187909458582"
   ]
  },
  {
   "cell_type": "code",
   "execution_count": 25,
   "metadata": {},
   "outputs": [
    {
     "name": "stdout",
     "output_type": "stream",
     "text": [
      "4.041812791817169\n",
      "[[4.88205037]\n",
      " [4.60673244]\n",
      " [3.29034932]\n",
      " [2.12569341]\n",
      " [1.50404353]]\n",
      "6.709187909458592\n"
     ]
    },
    {
     "data": {
      "image/png": "[encoded data removed]",
      "text/plain": [
       "<Figure size 432x288 with 1 Axes>"
      ]
     },
     "metadata": {
      "needs_background": "light"
     },
     "output_type": "display_data"
    }
   ],
   "source": [
    "with open('/home/jovyan/binder/Dataset3/small_train.pkl', \"rb\") as f:\n",
    "    data=pickle.load(f)\n",
    "    \n",
    "    #print(data[\"X\"].shape[0])\n",
    "    x=data[\"X\"]\n",
    "    \n",
    "   # print(x)\n",
    "    \n",
    "    y=data[\"Y\"]\n",
    "    \n",
    "    w=regression(5,x, y)\n",
    "    \n",
    "\n",
    "    \n",
    "\n",
    "with open('/home/jovyan/binder/Dataset3/test.pkl', \"rb\") as f:\n",
    "    data=pickle.load(f)\n",
    "    \n",
    "    y=data[\"Y\"]\n",
    "\n",
    "\n",
    "    print(w)\n",
    "    \n",
    "    eval_poly(5,x,y, w)"
   ]
  },
  {
   "cell_type": "markdown",
   "metadata": {},
   "source": [
    "## For each dataset, what degree of polynomial do you think was used to generate thedata?"
   ]
  },
  {
   "cell_type": "markdown",
   "metadata": {},
   "source": [
    "Based on our observations for the optimal performance of data, the degree of polynomial used to generate dataset 1 was k=4, and for dataset 2 and 3 was k=5. This is becuase the sample data is usually closely correlated to the test data, and so the polynomial degrees that minimize test errors are used to generate the data"
   ]
  },
  {
   "cell_type": "code",
   "execution_count": null,
   "metadata": {},
   "outputs": [],
   "source": []
  }
 ],
 "metadata": {
  "kernelspec": {
   "display_name": "Python 3",
   "language": "python",
   "name": "python3"
  },
  "language_info": {
   "codemirror_mode": {
    "name": "ipython",
    "version": 3
   },
   "file_extension": ".py",
   "mimetype": "text/x-python",
   "name": "python",
   "nbconvert_exporter": "python",
   "pygments_lexer": "ipython3",
   "version": "3.6.13"
  }
 },
 "nbformat": 4,
 "nbformat_minor": 2
}
